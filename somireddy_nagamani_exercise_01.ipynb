{
  "cells": [
    {
      "cell_type": "markdown",
      "metadata": {
        "id": "view-in-github",
        "colab_type": "text"
      },
      "source": [
        "<a href=\"https://colab.research.google.com/github/nagamani0604/Nagamani_INFO5731_Fall2024/blob/main/somireddy_nagamani_exercise_01.ipynb\" target=\"_parent\"><img src=\"https://colab.research.google.com/assets/colab-badge.svg\" alt=\"Open In Colab\"/></a>"
      ]
    },
    {
      "cell_type": "markdown",
      "metadata": {
        "id": "DymRJbxDBCnf"
      },
      "source": [
        "# **INFO5731 Exercise 1**\n",
        "\n",
        "This exercise covers a variety of fundamental concepts in Python and is designed to help students improve their coding skills and problem-solving abilities.\n",
        "\n",
        "**Expectations**:\n",
        "*   Students are expected to complete the exercise during lecture period to meet the active participation criteria of the course.\n",
        "*   Use the provided .*ipynb* document to write your code & respond to the questions. Avoid generating a new file.\n",
        "*   Write complete answers and run all the cells before submission.\n",
        "*   Make sure the submission is \"clean\"; *i.e.*, no unnecessary code cells.\n",
        "*   Once finished, allow shared rights from top right corner (*see Canvas for details*).\n",
        "\n",
        "**Total points**: 40\n",
        "\n",
        "**Deadline**: This in-class exercise is due at the end of the day tomorrow, at 11:59 PM.\n",
        "\n",
        "**Late submissions cannot be considered, and no requests will be answered. Manage your time accordingly.**\n"
      ]
    },
    {
      "cell_type": "markdown",
      "source": [
        "## Question 1\n",
        "Write a Python program that  prompts the user to input the length and width of a rectangle, and then calculates and displays the area of the rectangle."
      ],
      "metadata": {
        "id": "FBKvD6O_TY6e"
      }
    },
    {
      "cell_type": "code",
      "source": [
        "length = float(input(\"Please enter lenght of the rectangle: \"))\n",
        "width = float(input(\"Please enter lenght of the rectangle: \"))\n",
        "\n",
        "area = length * width\n",
        "\n",
        "print(\"Area of the rectangle is\", area)"
      ],
      "metadata": {
        "id": "cikVKDXdTbzE",
        "colab": {
          "base_uri": "https://localhost:8080/"
        },
        "outputId": "3b02634c-f830-4608-8a41-6c58da495365"
      },
      "execution_count": 1,
      "outputs": [
        {
          "output_type": "stream",
          "name": "stdout",
          "text": [
            "Please enter lenght of the rectangle: 2\n",
            "Please enter lenght of the rectangle: 2\n",
            "Area of the rectangle is 4.0\n"
          ]
        }
      ]
    },
    {
      "cell_type": "markdown",
      "source": [
        "## Question 2\n",
        "Create a Python program that interactively takes two numerical inputs from the user and swaps their values without utilizing an extra variable."
      ],
      "metadata": {
        "id": "E9RqrlwdTfvl"
      }
    },
    {
      "cell_type": "code",
      "source": [
        "a = float(input(\"Please enter number 1: \"))\n",
        "b = float(input(\"Please enter number 2: \"))\n",
        "\n",
        "a, b = b, a\n",
        "\n",
        "print(\"Numbers after swapping:\",a, b)"
      ],
      "metadata": {
        "id": "4XvRknixTh1g",
        "colab": {
          "base_uri": "https://localhost:8080/"
        },
        "outputId": "e0ef4c0b-4aa3-44eb-c775-46b2e7867342"
      },
      "execution_count": 5,
      "outputs": [
        {
          "output_type": "stream",
          "name": "stdout",
          "text": [
            "Please enter number 1: 2\n",
            "Please enter number 2: 3\n",
            "Numbers after swapping: 3.0 2.0\n"
          ]
        }
      ]
    },
    {
      "cell_type": "markdown",
      "metadata": {
        "id": "03jb4GZsBkBS"
      },
      "source": [
        "## Question 3\n",
        "Write a Python script to determine and print the length of a user-input string."
      ]
    },
    {
      "cell_type": "code",
      "execution_count": null,
      "metadata": {
        "id": "YaGLbSHHB8Ej",
        "colab": {
          "base_uri": "https://localhost:8080/"
        },
        "outputId": "868876dd-770d-40a8-d718-aa1c5145e621"
      },
      "outputs": [
        {
          "output_type": "stream",
          "name": "stdout",
          "text": [
            "Please enter a string: 23\n",
            "Length of the string is 2\n"
          ]
        }
      ],
      "source": [
        "user_input = input(\"Please enter a string: \")\n",
        "length = len(user_input)\n",
        "\n",
        "print(\"Length of the string is\", length)\n"
      ]
    },
    {
      "cell_type": "markdown",
      "metadata": {
        "id": "jJDe71iLB616"
      },
      "source": [
        "## Question 4\n",
        "Construct a Python program that counts and displays the occurrences of each character in a given string.\n",
        "\n",
        "Sample String: 'openai.ai',\n",
        "\n",
        "Expected Result: {'a': 2, 'i': 2, '.': 1, 'o': 1, 'p': 1, 'e': 1, 'n': 1}"
      ]
    },
    {
      "cell_type": "code",
      "execution_count": null,
      "metadata": {
        "id": "MtKskTzbCLaU",
        "colab": {
          "base_uri": "https://localhost:8080/"
        },
        "outputId": "a9850a87-c6e1-471c-d311-c4b8869a35d3"
      },
      "outputs": [
        {
          "output_type": "stream",
          "name": "stdout",
          "text": [
            "Please enter string: Hima\n",
            "{'i': 1, 'm': 1, 'a': 1, 'H': 1}\n"
          ]
        }
      ],
      "source": [
        "s = input(\"Please enter string: \")\n",
        "print({c: s.count(c) for c in set(s)})\n",
        "\n"
      ]
    },
    {
      "cell_type": "markdown",
      "metadata": {
        "id": "55W9AMdXCSpV"
      },
      "source": [
        "## Question 5\n",
        "Design a Python code to calculate the sum of all elements in a user-provided list."
      ]
    },
    {
      "cell_type": "code",
      "execution_count": null,
      "metadata": {
        "id": "I57NXsauCec2",
        "colab": {
          "base_uri": "https://localhost:8080/"
        },
        "outputId": "bb08d477-b8c4-47ad-99c4-af056980fc39"
      },
      "outputs": [
        {
          "output_type": "stream",
          "name": "stdout",
          "text": [
            "Enter numbers separated by spaces: 1 2\n",
            "Sum of the numbers is 3\n"
          ]
        }
      ],
      "source": [
        "numbers = input(\"Enter numbers separated by spaces: \")\n",
        "\n",
        "lst = [int(num) for num in numbers.split()]\n",
        "\n",
        "print(\"Sum of the numbers is\", sum(lst))\n"
      ]
    },
    {
      "cell_type": "markdown",
      "metadata": {
        "id": "4ulBZ6yhCi9F"
      },
      "source": [
        "## Question 6\n",
        "Write a Python program that modifies a given string by replacing all occurrences of its first character with '$', excluding the first character itself.\n",
        "\n",
        "\n",
        "Sample String : 'restart‘\n",
        "Expected Result : 'resta\\$t'"
      ]
    },
    {
      "cell_type": "code",
      "execution_count": null,
      "metadata": {
        "id": "Fj0XhwbBCw2o",
        "colab": {
          "base_uri": "https://localhost:8080/"
        },
        "outputId": "6f77077a-9265-4bca-de5e-0deb6a5fe276"
      },
      "outputs": [
        {
          "output_type": "stream",
          "name": "stdout",
          "text": [
            "Please enter a string: nani\n",
            "na$i\n"
          ]
        }
      ],
      "source": [
        "s = input(\"Please enter a string: \")\n",
        "first_char = s[0]\n",
        "modified_string = first_char + s[1:].replace(first_char, '$')\n",
        "print(modified_string)\n"
      ]
    },
    {
      "cell_type": "markdown",
      "source": [
        "## Question 7\n",
        "Write a Python program using a while loop to compute the factorial of a user-supplied number."
      ],
      "metadata": {
        "id": "qVXA3q7ET5JI"
      }
    },
    {
      "cell_type": "code",
      "source": [
        "n = int(input(\"Please enter a number: \"))\n",
        "\n",
        "f = 1\n",
        "\n",
        "while n:\n",
        "    f *= n\n",
        "    n -= 1\n",
        "\n",
        "print(f)"
      ],
      "metadata": {
        "id": "Lbt7R6UkT7BA",
        "colab": {
          "base_uri": "https://localhost:8080/"
        },
        "outputId": "41894ba7-ada2-4f5a-a26d-5833ba950a9c"
      },
      "execution_count": null,
      "outputs": [
        {
          "output_type": "stream",
          "name": "stdout",
          "text": [
            "Please enter a number: 4\n",
            "24\n"
          ]
        }
      ]
    },
    {
      "cell_type": "markdown",
      "source": [
        "## Question 8\n",
        "Create a program that accepts a list of numbers as input and outputs a new list containing only the even numbers."
      ],
      "metadata": {
        "id": "6YfbzXMNT--R"
      }
    },
    {
      "cell_type": "code",
      "source": [
        "numbers = list(map(int, input(\"Please enter numbers with space between them: \").split()))\n",
        "even_numbers = [num for num in numbers if num % 2 == 0]\n",
        "\n",
        "print(even_numbers)"
      ],
      "metadata": {
        "id": "54q7wMQPUAKu",
        "colab": {
          "base_uri": "https://localhost:8080/"
        },
        "outputId": "eecdaa61-bfb6-4ac2-cb2d-28b6bba5242a"
      },
      "execution_count": null,
      "outputs": [
        {
          "output_type": "stream",
          "name": "stdout",
          "text": [
            "Please enter numbers with space between them: 1 2 3 4 5\n",
            "[2, 4]\n"
          ]
        }
      ]
    },
    {
      "cell_type": "markdown",
      "metadata": {
        "id": "_bIP7s1MCzue"
      },
      "source": [
        "## Question 9\n",
        "Design a Python function to check if a number is prime.\n"
      ]
    },
    {
      "cell_type": "code",
      "execution_count": 37,
      "metadata": {
        "id": "w79QilHXD3Mg",
        "colab": {
          "base_uri": "https://localhost:8080/"
        },
        "outputId": "fbc3b55c-d2b4-4ba8-f75e-579d8f8cf1e6"
      },
      "outputs": [
        {
          "output_type": "stream",
          "name": "stdout",
          "text": [
            "3\n",
            "True\n"
          ]
        }
      ],
      "source": [
        "def is_prime(n):\n",
        "    if n <= 1:\n",
        "        return False\n",
        "    if n == 2:\n",
        "        return True\n",
        "    if n % 2 == 0:\n",
        "        return False\n",
        "    return True\n",
        "\n",
        "print(is_prime(int(input())))\n"
      ]
    },
    {
      "cell_type": "markdown",
      "metadata": {
        "id": "xCa2bK9aD4Q3"
      },
      "source": [
        "## Question 10\n",
        "Write a Python program to concatenate following dictionaries to create a new one.\n",
        "\n",
        "Sample Dictionary : dic1={1:10, 2:20}, dic2={3:30, 4:40}, dic3={5:50,6:60},\n",
        "\n",
        "Expected Result : {1: 10, 2: 20, 3: 30, 4: 40, 5: 50, 6: 60}\n"
      ]
    },
    {
      "cell_type": "code",
      "execution_count": 2,
      "metadata": {
        "id": "_z4aLqAbEET1",
        "colab": {
          "base_uri": "https://localhost:8080/"
        },
        "outputId": "f3c6cc80-c2ba-402a-b36e-2199c9e22223"
      },
      "outputs": [
        {
          "output_type": "stream",
          "name": "stdout",
          "text": [
            "{1: 10, 2: 20, 3: 30, 4: 40, 5: 50, 6: 60}\n"
          ]
        }
      ],
      "source": [
        "dict1 = {1: 10, 2: 20}\n",
        "dict2 = {3: 30, 4: 40}\n",
        "dict3 = {5: 50, 6: 60}\n",
        "\n",
        "merged_dict = {**dict1, **dict2, **dict3}\n",
        "\n",
        "print(merged_dict)\n"
      ]
    },
    {
      "cell_type": "markdown",
      "source": [
        "## Question 11\n",
        "Design a Python function that takes a tuple of integers as input and returns the largest and smallest elements."
      ],
      "metadata": {
        "id": "bkyZ2xSZUOst"
      }
    },
    {
      "cell_type": "code",
      "source": [
        "def find_largest_smallest(t):\n",
        "    return (max(t), min(t))\n",
        "t = tuple(map(int, input().split()))\n",
        "print(find_largest_smallest(t))\n"
      ],
      "metadata": {
        "id": "3FdLRBKOUQEd",
        "colab": {
          "base_uri": "https://localhost:8080/"
        },
        "outputId": "ec497da0-e2d2-4262-befb-134fa32c9f82"
      },
      "execution_count": null,
      "outputs": [
        {
          "output_type": "stream",
          "name": "stdout",
          "text": [
            "1 2000\n",
            "(2000, 1)\n"
          ]
        }
      ]
    },
    {
      "cell_type": "markdown",
      "source": [
        "## Question 12\n",
        "Write a Python program that counts the frequency of each character in a given string and stores it in a dictionary."
      ],
      "metadata": {
        "id": "O0TVi3gKUTpp"
      }
    },
    {
      "cell_type": "code",
      "source": [
        "string = input(\"Please enter a string: \")\n",
        "frequency = {}\n",
        "\n",
        "for char in string:\n",
        "    if char in frequency:\n",
        "        frequency[char] += 1\n",
        "    else:\n",
        "        frequency[char] = 1\n",
        "\n",
        "print(frequency)\n"
      ],
      "metadata": {
        "id": "lAtfSfZXUU-h",
        "colab": {
          "base_uri": "https://localhost:8080/"
        },
        "outputId": "17d1e8c4-42aa-4ac8-e613-904996e7d9bf"
      },
      "execution_count": 3,
      "outputs": [
        {
          "output_type": "stream",
          "name": "stdout",
          "text": [
            "Please enter a string: mani\n",
            "{'m': 1, 'a': 1, 'n': 1, 'i': 1}\n"
          ]
        }
      ]
    },
    {
      "cell_type": "markdown",
      "metadata": {
        "id": "0v48Vqa7FrQh"
      },
      "source": [
        "## Question 13\n",
        "Implement a Python script to identify duplicate elements in a provided array of integers. Return -1 if there are no duplicates."
      ]
    },
    {
      "cell_type": "code",
      "execution_count": 4,
      "metadata": {
        "id": "7WEmgq-DF2P1",
        "colab": {
          "base_uri": "https://localhost:8080/"
        },
        "outputId": "5ed9dab6-ffc7-44ff-b5a2-c419a4f88ab3"
      },
      "outputs": [
        {
          "output_type": "stream",
          "name": "stdout",
          "text": [
            "Enter integers separated by spaces: 2 4 3 2\n",
            "[2]\n"
          ]
        }
      ],
      "source": [
        "\n",
        "arr = list(map(int, input(\"Enter integers separated by spaces: \").split()))\n",
        "duplicates = []\n",
        "\n",
        "for num in arr:\n",
        "    if arr.count(num) > 1 and num not in duplicates:\n",
        "        duplicates.append(num)\n",
        "\n",
        "print(duplicates if duplicates else -1)\n",
        "\n",
        "\n"
      ]
    },
    {
      "cell_type": "markdown",
      "metadata": {
        "id": "vD5PYLMuGga_"
      },
      "source": [
        "## Question 14\n",
        "Write a Python script to find the common elements between two lists."
      ]
    },
    {
      "cell_type": "code",
      "execution_count": 6,
      "metadata": {
        "id": "t0D5kdJUGjjw",
        "colab": {
          "base_uri": "https://localhost:8080/"
        },
        "outputId": "439297e1-919c-4277-c321-7c91cf8d4611"
      },
      "outputs": [
        {
          "output_type": "stream",
          "name": "stdout",
          "text": [
            "Please enter the first list of numbers, separated by commas: 1,2,3,4,5\n",
            "Please enter the second list of numbers, separated by commas: 2,3,7,8\n",
            "Common elements are [2, 3]\n"
          ]
        }
      ],
      "source": [
        "list1 = input(\"Please enter the first list of numbers, separated by commas: \").split(',')\n",
        "list2 = input(\"Please enter the second list of numbers, separated by commas: \").split(',')\n",
        "\n",
        "list1 = [int(x.strip()) for x in list1]\n",
        "list2 = [int(x.strip()) for x in list2]\n",
        "\n",
        "common_elements = [value for value in list1 if value in list2]\n",
        "\n",
        "print(f\"Common elements are {common_elements}\")\n"
      ]
    },
    {
      "cell_type": "markdown",
      "metadata": {
        "id": "uHkd-y5VhVWC"
      },
      "source": [
        "## Question 15\n",
        "Write a Python program to randomly divide the students in this class into maximum of eight groups for term projects, each group should have at least 4 students but no more than 6 students (including 6).\n",
        "\n",
        "Here is the students list:\n",
        "\n",
        "student_list_spring_2024=[rb0846,\n",
        "ac1964,\n",
        "hc0612,\n",
        "md0912,\n",
        "ad1198,\n",
        "md0894,\n",
        "md0825,\n",
        "vg0598,\n",
        "vg0433,\n",
        "mh1068,\n",
        "yj0173,\n",
        "pk0553,\n",
        "tk0411,\n",
        "srk0204,\n",
        "sk2922,\n",
        "sk2936,\n",
        "mk1302,\n",
        "mk1317,\n",
        "tk0412,\n",
        "vk0656,\n",
        "sm2985,\n",
        "mm2372,\n",
        "un0045,\n",
        "an0892,\n",
        "sn0913,\n",
        "gp0252,\n",
        "ap1484,\n",
        "mr1765,\n",
        "sr1385,\n",
        "sr1335,\n",
        "hs0665,\n",
        "ms2060,\n",
        "gt0217,\n",
        "nt0385,\n",
        "tv0186,\n",
        "sv1394,\n",
        "sv1752,\n",
        "sv1555,\n",
        "sy0594\n",
        "]\n"
      ]
    },
    {
      "cell_type": "code",
      "execution_count": 10,
      "metadata": {
        "id": "3iGbmcOBhTwy",
        "colab": {
          "base_uri": "https://localhost:8080/"
        },
        "outputId": "836d715f-3380-40bc-856e-430283948083"
      },
      "outputs": [
        {
          "output_type": "stream",
          "name": "stdout",
          "text": [
            "Group 1: ['sv1752', 'hs0665', 'mk1317', 'pk0553']\n",
            "Group 2: ['mh1068', 'an0892', 'rb0846', 'vg0598']\n",
            "Group 3: ['tv0186', 'gp0252', 'mk1302', 'sk2922', 'ad1198']\n",
            "Group 4: ['ap1484', 'sn0913', 'hc0612', 'gt0217', 'sr1385']\n",
            "Group 5: ['vg0433', 'ms2060', 'tk0412', 'ac1964', 'mr1765']\n",
            "Group 6: ['sy0594', 'sm2985', 'yj0173', 'md0825', 'srk0204', 'sv1394']\n",
            "Group 7: ['md0894', 'sr1335', 'un0045', 'sv1555', 'sk2936']\n",
            "Group 8: ['md0912', 'vk0656', 'nt0385', 'tk0411', 'mm2372']\n"
          ]
        }
      ],
      "source": [
        "import random\n",
        "\n",
        "student_list_spring_2024 = [\n",
        "    'rb0846', 'ac1964', 'hc0612', 'md0912', 'ad1198', 'md0894', 'md0825',\n",
        "    'vg0598', 'vg0433', 'mh1068', 'yj0173', 'pk0553', 'tk0411', 'srk0204',\n",
        "    'sk2922', 'sk2936', 'mk1302', 'mk1317', 'tk0412', 'vk0656', 'sm2985',\n",
        "    'mm2372', 'un0045', 'an0892', 'sn0913', 'gp0252', 'ap1484', 'mr1765',\n",
        "    'sr1385', 'sr1335', 'hs0665', 'ms2060', 'gt0217', 'nt0385', 'tv0186',\n",
        "    'sv1394', 'sv1752', 'sv1555', 'sy0594'\n",
        "]\n",
        "\n",
        "def divide_into_groups(students, min_size=4, max_size=6, max_groups=8):\n",
        "    random.shuffle(students)\n",
        "    groups = []\n",
        "    while students:\n",
        "        group_size = random.randint(min_size, max_size)\n",
        "        group = students[:group_size]\n",
        "        students = students[group_size:]\n",
        "        groups.append(group)\n",
        "        if len(groups) >= max_groups:\n",
        "            break\n",
        "    if len(groups) > max_groups:\n",
        "        groups[-2].extend(groups[-1])\n",
        "        groups.pop()\n",
        "\n",
        "    return groups\n",
        "groups = divide_into_groups(student_list_spring_2024)\n",
        "for i, group in enumerate(groups, start=1):\n",
        "    print(f\"Group {i}: {group}\")\n"
      ]
    },
    {
      "cell_type": "markdown",
      "metadata": {
        "id": "fmZ9vX20Qs3d"
      },
      "source": [
        "## Question 16\n",
        "Create a program that takes a positive integer 'n' as input and prints the count of even numbers from 1 to 'n'. Optimize the loop using the continue statement."
      ]
    },
    {
      "cell_type": "code",
      "execution_count": 12,
      "metadata": {
        "id": "W8Jw6sWMQs3d",
        "colab": {
          "base_uri": "https://localhost:8080/"
        },
        "outputId": "eb7f049c-415b-4b12-b0d8-8dd2213cdb08"
      },
      "outputs": [
        {
          "output_type": "stream",
          "name": "stdout",
          "text": [
            "Enter a positive integer: 10\n",
            "Count of even numbers from 1 to 10 is: 5\n"
          ]
        }
      ],
      "source": [
        "def count_even_numbers(n):\n",
        "    count = 0\n",
        "    for i in range(1, n + 1):\n",
        "        if i % 2 != 0:\n",
        "            continue\n",
        "        count += 1\n",
        "    print(\"Count of even numbers from 1 to\", n, \"is:\", count)\n",
        "try:\n",
        "    n = int(input(\"Enter a positive integer: \"))\n",
        "    if n < 1:\n",
        "        print(\"Please enter a positive integer.\")\n",
        "    else:\n",
        "        count_even_numbers(n)\n",
        "except ValueError:\n",
        "    print(\"Please enter a valid integer.\")\n",
        "\n",
        "\n"
      ]
    },
    {
      "cell_type": "markdown",
      "metadata": {
        "id": "hvq4APMhQs3d"
      },
      "source": [
        "## Question 17\n",
        "Develop a Python function called 'count_vowels' that takes a string as input and returns the count of vowels (both lowercase and uppercase) present in the string, ignoring spaces and non-alphabetic characters."
      ]
    },
    {
      "cell_type": "code",
      "execution_count": 15,
      "metadata": {
        "id": "ZnoxhSglQs3d",
        "colab": {
          "base_uri": "https://localhost:8080/"
        },
        "outputId": "55d77cfd-949e-4f2c-90f2-f848ca5248f9"
      },
      "outputs": [
        {
          "output_type": "stream",
          "name": "stdout",
          "text": [
            "Please enter a string: maniMANI\n",
            "Vowel Count is 4\n"
          ]
        }
      ],
      "source": [
        "def count_vowels(s):\n",
        "    vowels = \"aeiouAEIOU\"\n",
        "    return sum(1 for char in s if char in vowels)\n",
        "input_string = input(\"Please enter a string: \")\n",
        "print(\"Vowel Count is\", count_vowels(input_string))\n"
      ]
    },
    {
      "cell_type": "markdown",
      "source": [
        "## Question 18\n",
        "Create a custom exception named ValueTooSmallError in Python. Write a program that takes user input for an age, and if the entered age is less than 18, raise the ValueTooSmallError with an appropriate error message."
      ],
      "metadata": {
        "id": "55FWoSJPVVM6"
      }
    },
    {
      "cell_type": "code",
      "source": [
        "class ValueTooSmallError(Exception):\n",
        "    pass\n",
        "\n",
        "def main():\n",
        "    try:\n",
        "        age = int(input(\"Please enter your age: \"))\n",
        "        if age < 18:\n",
        "            raise ValueTooSmallError(\"Age must be at least 18\")\n",
        "        print(\"Accepted\")\n",
        "    except ValueError:\n",
        "        print(\"Input invalid. Please enter a number\")\n",
        "    except ValueTooSmallError as e:\n",
        "        print(e)\n",
        "main()\n"
      ],
      "metadata": {
        "id": "hwtr1wZmVX5A",
        "colab": {
          "base_uri": "https://localhost:8080/"
        },
        "outputId": "f6f56d22-97ba-4f59-a9dd-47c27787661b"
      },
      "execution_count": 22,
      "outputs": [
        {
          "output_type": "stream",
          "name": "stdout",
          "text": [
            "Please enter your age: 18\n",
            "Accepted\n"
          ]
        }
      ]
    },
    {
      "cell_type": "markdown",
      "source": [
        "## Question 19\n",
        "Develop a script that reverses a given string without using built-in reverse functions."
      ],
      "metadata": {
        "id": "Q9ecagcaVazW"
      }
    },
    {
      "cell_type": "code",
      "source": [
        "def reverse_string(s):\n",
        "    reversed_str = \"\"\n",
        "    for char in s:\n",
        "        reversed_str = char + reversed_str\n",
        "    return reversed_str\n",
        "\n",
        "input_string = input(\"Please enter a string: \")\n",
        "print(\"String reversed:\", reverse_string(input_string))\n"
      ],
      "metadata": {
        "id": "gycgckoAVZjR",
        "colab": {
          "base_uri": "https://localhost:8080/"
        },
        "outputId": "b52a3024-a506-4d7e-8463-0ce57d60451f"
      },
      "execution_count": 23,
      "outputs": [
        {
          "output_type": "stream",
          "name": "stdout",
          "text": [
            "Please enter a string: 23\n",
            "String reversed: 32\n"
          ]
        }
      ]
    },
    {
      "cell_type": "markdown",
      "source": [
        "## Question 20\n",
        "Implement a Python script to generate a random password of a specified length."
      ],
      "metadata": {
        "id": "ZFG6RibifMLu"
      }
    },
    {
      "cell_type": "code",
      "source": [
        "import random\n",
        "import string\n",
        "\n",
        "def generate_password(length):\n",
        "    characters = string.ascii_letters + string.digits\n",
        "    password = ''\n",
        "    for _ in range(length):\n",
        "        password += random.choice(characters)\n",
        "    return password\n",
        "length = int(input(\"Please enter the desired lenght of the password \"))\n",
        "print(\"Generated password is\", generate_password(length))\n"
      ],
      "metadata": {
        "id": "BFVrkEi9fNiD",
        "colab": {
          "base_uri": "https://localhost:8080/"
        },
        "outputId": "41bdcaba-528e-4b6d-b74a-a177cd8d91dc"
      },
      "execution_count": 26,
      "outputs": [
        {
          "output_type": "stream",
          "name": "stdout",
          "text": [
            "Please enter the desired lenght of the password 6\n",
            "Generated password is Sjg2Yz\n"
          ]
        }
      ]
    },
    {
      "cell_type": "markdown",
      "source": [
        "# Try these questions"
      ],
      "metadata": {
        "id": "6SmvS7nSfbj8"
      }
    },
    {
      "cell_type": "markdown",
      "source": [
        "(21) Define a base class called 'Vehicle' with attributes make and model. Create a derived class Car that inherits from Vehicle and has an additional attribute 'num_doors'. Demonstrate an example of creating an instance of the 'Car' class and accessing its attributes."
      ],
      "metadata": {
        "id": "cboAr5pEWUf5"
      }
    },
    {
      "cell_type": "code",
      "source": [
        "class Vehicle:\n",
        "    def __init__(self, make, model):\n",
        "        self.make = make\n",
        "        self.model = model\n",
        "\n",
        "class Car(Vehicle):\n",
        "    def __init__(self, make, model, num_doors):\n",
        "        super().__init__(make, model)\n",
        "        self.num_doors = num_doors\n",
        "\n",
        "my_car = Car(\"Nissan\", \"Altima\", 4)\n",
        "\n",
        "# Print attributes\n",
        "print(\"Make:\", my_car.make)\n",
        "print(\"Model:\", my_car.model)\n",
        "print(\"Number of doors:\", my_car.num_doors)\n",
        "\n"
      ],
      "metadata": {
        "id": "phs9gciMWWAW",
        "colab": {
          "base_uri": "https://localhost:8080/"
        },
        "outputId": "d454d341-b5c4-432b-d7f9-083cb24ac331"
      },
      "execution_count": 36,
      "outputs": [
        {
          "output_type": "stream",
          "name": "stdout",
          "text": [
            "Make: Nissan\n",
            "Model: Altima\n",
            "Number of doors: 4\n"
          ]
        }
      ]
    },
    {
      "cell_type": "markdown",
      "source": [
        "(22) Create a class called 'Shape' with a method calculate_area(). Implement two derived classes 'Circle' and 'Rectangle' that inherit from Shape and override the calculate_area() method. Demonstrate polymorphism by creating instances of both derived classes and calling the calculate_area() method."
      ],
      "metadata": {
        "id": "J8HHefNtePwd"
      }
    },
    {
      "cell_type": "code",
      "source": [
        "import math\n",
        "\n",
        "class Shape:\n",
        "    def calculate_area(self):\n",
        "        return 0\n",
        "\n",
        "class Circle(Shape):\n",
        "    def __init__(self, radius):\n",
        "        self.radius = radius\n",
        "\n",
        "    def calculate_area(self):\n",
        "        return math.pi * self.radius * self.radius\n",
        "\n",
        "class Rectangle(Shape):\n",
        "    def __init__(self, width, height):\n",
        "        self.width = width\n",
        "        self.height = height\n",
        "\n",
        "    def calculate_area(self):\n",
        "        return self.width * self.height\n",
        "\n",
        "circle = Circle(2)\n",
        "rectangle = Rectangle(3,4)\n",
        "\n",
        "print(\"Area of the circle is \", circle.calculate_area())\n",
        "print(\"Area of the rectangle is \", rectangle.calculate_area())"
      ],
      "metadata": {
        "id": "btnMmUZDeRhS",
        "colab": {
          "base_uri": "https://localhost:8080/"
        },
        "outputId": "cdd45c8d-2c31-4c81-b323-d4a4c6233ecb"
      },
      "execution_count": 30,
      "outputs": [
        {
          "output_type": "stream",
          "name": "stdout",
          "text": [
            "Area of the circle is  12.566370614359172\n",
            "Area of the rectangle is  12\n"
          ]
        }
      ]
    },
    {
      "cell_type": "markdown",
      "source": [
        "(23) Write a Python program that prompts the user to enter two numbers and perform a division operation. Handle exceptions for both zero division and invalid input (non-numeric input). Display appropriate error messages for each type of exception and ensure the program does not crash due to these errors."
      ],
      "metadata": {
        "id": "z0oqEAlTeMUS"
      }
    },
    {
      "cell_type": "code",
      "source": [
        "def divide_numbers():\n",
        "    try:\n",
        "        numerator = float(input(\"Please enter the numerator: \"))\n",
        "        denominator = float(input(\"Please enter the denominator: \"))\n",
        "\n",
        "        result = numerator / denominator\n",
        "\n",
        "        print(\"Result is \", result)\n",
        "\n",
        "    except ZeroDivisionError:\n",
        "        print(\"Cannot be divided by 0\")\n",
        "    except ValueError:\n",
        "        print(\"Please enter valid numbers.\")\n",
        "\n",
        "divide_numbers()"
      ],
      "metadata": {
        "id": "yjdc1zM1eMAs",
        "colab": {
          "base_uri": "https://localhost:8080/"
        },
        "outputId": "04584ffd-2523-4937-c885-6052aaea482c"
      },
      "execution_count": 34,
      "outputs": [
        {
          "output_type": "stream",
          "name": "stdout",
          "text": [
            "Please enter the numerator: 1\n",
            "Please enter the denominator: 0\n",
            "Cannot be divided by 0\n"
          ]
        }
      ]
    },
    {
      "cell_type": "markdown",
      "source": [
        "# Mandatory Question"
      ],
      "metadata": {
        "id": "sZOhks1dXWEe"
      }
    },
    {
      "cell_type": "markdown",
      "source": [
        "**Important:**\n",
        "Reflecting on the first three lectures and the exercises you've completed, please provide feedback on your learning experience. Share your thoughts on whether the material covered was clear, the exercises were helpful, and if you feel more confident in applying Python programming concepts. Additionally, mention any specific areas where you would like more clarification or topics you would like to explore further in future lectures. Your feedback is valuable in shaping the course for an effective learning journey."
      ],
      "metadata": {
        "id": "eqmHVEwaWhbV"
      }
    },
    {
      "cell_type": "code",
      "source": [
        "'''\n",
        "I have understood the fundamental and basic concepts of python programming. The exercises were helpful and with the more practice i gain confidence to use all the concepts related to python programming.\n",
        "Iam little confused about the dictionaries.\n",
        "'''"
      ],
      "metadata": {
        "id": "akAVJn9YBTQT",
        "colab": {
          "base_uri": "https://localhost:8080/",
          "height": 53
        },
        "outputId": "099866e8-3c7e-4a0e-9210-db889c990cfe"
      },
      "execution_count": 35,
      "outputs": [
        {
          "output_type": "execute_result",
          "data": {
            "text/plain": [
              "'\\nI have understood the fundamental and basic concepts of python programming. The exercises were helpful and with the more practice i gain confidence to use all the concepts related to python programming.\\nIam little confused about the dictionaries.\\n'"
            ],
            "application/vnd.google.colaboratory.intrinsic+json": {
              "type": "string"
            }
          },
          "metadata": {},
          "execution_count": 35
        }
      ]
    }
  ],
  "metadata": {
    "colab": {
      "provenance": [],
      "toc_visible": true,
      "include_colab_link": true
    },
    "kernelspec": {
      "display_name": "Python 3 (ipykernel)",
      "language": "python",
      "name": "python3"
    },
    "language_info": {
      "codemirror_mode": {
        "name": "ipython",
        "version": 3
      },
      "file_extension": ".py",
      "mimetype": "text/x-python",
      "name": "python",
      "nbconvert_exporter": "python",
      "pygments_lexer": "ipython3",
      "version": "3.9.12"
    }
  },
  "nbformat": 4,
  "nbformat_minor": 0
}