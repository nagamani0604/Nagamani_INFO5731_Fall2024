{
  "cells": [
    {
      "cell_type": "markdown",
      "metadata": {
        "id": "view-in-github",
        "colab_type": "text"
      },
      "source": [
        "<a href=\"https://colab.research.google.com/github/nagamani0604/Nagamani_INFO5731_Fall2024/blob/main/Somireddy_Nagamani_Assignment_01.ipynb\" target=\"_parent\"><img src=\"https://colab.research.google.com/assets/colab-badge.svg\" alt=\"Open In Colab\"/></a>"
      ]
    },
    {
      "cell_type": "markdown",
      "metadata": {
        "id": "Ryk8D1Q4Wsrp"
      },
      "source": [
        "# **INFO5731 Assignment One**"
      ]
    },
    {
      "cell_type": "markdown",
      "source": [
        "This assignment includes range of programming tasks and data analysis exercises, aiming to enhance your Python skills and proficiency in string manipulation, numerical computations, and data science. Follow the instructions carefully and design well-structured Python programs to address each question.\n",
        "\n",
        "Late Submission will have a penalty of 10% reduction for each day after the deadline."
      ],
      "metadata": {
        "id": "qcP6re2g5A5r"
      }
    },
    {
      "cell_type": "markdown",
      "metadata": {
        "id": "JkzR8cFAyGik"
      },
      "source": [
        "# Question 1 (10 points).\n",
        "\n",
        "The formula that describes the volume V of a hemisphere with radius r is the following:\n",
        "\n",
        "$ V=\\frac{2}{3}\\ast\\ \\pi\\ast\\ r^3 $\n",
        "\n",
        "Write a program to calculate the value of V when r is in the range of even numbers from 1-20. Output the result in the following format:\n",
        "\n",
        "\tr\tV\n",
        "\t2\t…\n",
        "\t4\t…\n",
        "\t6\t…\n",
        "\t.\n",
        "\t.\n",
        "\t.\n",
        "\t20\t…\n"
      ]
    },
    {
      "cell_type": "code",
      "execution_count": 29,
      "metadata": {
        "id": "jDyTKYs-yGit",
        "colab": {
          "base_uri": "https://localhost:8080/"
        },
        "outputId": "eccd84fd-ccba-460a-f61c-a7b0ac789ab7"
      },
      "outputs": [
        {
          "output_type": "stream",
          "name": "stdout",
          "text": [
            "r     V         \n",
            "---------------\n",
            "2     16.76     \n",
            "4     134.04    \n",
            "6     452.39    \n",
            "8     1072.33   \n",
            "10    2094.40   \n",
            "12    3619.11   \n",
            "14    5747.02   \n",
            "16    8578.64   \n",
            "18    12214.51  \n",
            "20    16755.16  \n"
          ]
        }
      ],
      "source": [
        "\n",
        "import math\n",
        "\n",
        "def calculate_the_volume_of_hemisphere(r):\n",
        "    return (2/3) * math.pi * r**3\n",
        "\n",
        "def print_hemisphere_volumes():\n",
        "    print(f\"{'r':<5} {'V':<10}\")\n",
        "    print(\"-\" * 15)\n",
        "\n",
        "    for r in range(2, 21, 2):\n",
        "        V = calculate_the_volume_of_hemisphere(r)\n",
        "        print(f\"{r:<5} {V:<10.2f}\")\n",
        "\n",
        "print_hemisphere_volumes()\n"
      ]
    },
    {
      "cell_type": "markdown",
      "metadata": {
        "id": "90_NR8c5XGWc"
      },
      "source": [
        "# Question 2 (20 points)\n",
        "\n",
        "(a) Write a Python program to generate a sequence of 12 random numbers falling within the range of 50 to 150.\n",
        "\n",
        "(b) Arrange the generated numbers in ascending order. Display the sorted list.\n",
        "\n",
        "(c) Extend the program to arrange the numbers in descending order as well. Present the sorted list accordingly.\n",
        "\n",
        "(d) Compute and output the average of the entire group of generated numbers.\n",
        "\n",
        "(e) Enhance the program to calculate and display the average of the first 6 numbers from both the ascending and descending sorted lists."
      ]
    },
    {
      "cell_type": "code",
      "execution_count": 34,
      "metadata": {
        "id": "5QX6bJjGWXY9",
        "colab": {
          "base_uri": "https://localhost:8080/"
        },
        "outputId": "242251ec-9bce-43dd-ca6b-9fae43d61bb3"
      },
      "outputs": [
        {
          "output_type": "stream",
          "name": "stdout",
          "text": [
            "(A) Random Numbers: [58, 130, 130, 111, 135, 96, 146, 59, 143, 102, 97, 65]\n",
            "(B) Generated numbers in ascending order: [58, 59, 65, 96, 97, 102, 111, 130, 130, 135, 143, 146]\n",
            "(C) Generated numbers in descending order: [146, 143, 135, 130, 130, 111, 102, 97, 96, 65, 59, 58]\n",
            "(D) Average of entire generated numbers: 106.00\n",
            "(E) The average of first 6 numbers from ascending list: 79.50\n",
            "The average of first 6 numbers from descending list): 132.50\n"
          ]
        }
      ],
      "source": [
        "# Write code for each of the sub parts with proper comments.\n",
        "\n",
        "import random\n",
        "\n",
        "# (a) Python program to generate a sequence of 12 random numbers falling within the range of 50 to 150.\n",
        "random_numbers = [random.randint(50, 150) for _ in range(12)]\n",
        "print(\"(A) Random Numbers:\", random_numbers)\n",
        "\n",
        "\n",
        "# (b) Generated numbers in ascending order\n",
        "ascending_sorted_numbers = sorted(random_numbers)\n",
        "print(\"(B) Generated numbers in ascending order:\", ascending_sorted_numbers)\n",
        "\n",
        "# (c) Program to arrange the numbers in descending order\n",
        "descending_sorted_numbers = sorted(random_numbers, reverse=True)\n",
        "print(\"(C) Generated numbers in descending order:\", descending_sorted_numbers)\n",
        "\n",
        "# (d) Average of the entire group of generated numbers\n",
        "average_all = sum(random_numbers) / len(random_numbers)\n",
        "print(f\"(D) Average of entire generated numbers: {average_all:.2f}\")\n",
        "\n",
        "# (e) Average of the first 6 numbers from both the ascending and descending sorted lists.\n",
        "average_first6_ascending = sum(ascending_sorted_numbers[:6]) / 6\n",
        "average_first6_descending = sum(descending_sorted_numbers[:6]) / 6\n",
        "\n",
        "print(f\"(E) The average of first 6 numbers from ascending list: {average_first6_ascending:.2f}\")\n",
        "print(f\"The average of first 6 numbers from descending list): {average_first6_descending:.2f}\")\n",
        "\n",
        "\n",
        "\n",
        "\n",
        "\n",
        "\n",
        "\n"
      ]
    },
    {
      "cell_type": "markdown",
      "metadata": {
        "id": "1F_PZdH9Sh49"
      },
      "source": [
        "# Question 3 (20 points).\n",
        "\n",
        "Create a Python program that encompasses various string manipulation task:\n",
        "\n",
        "(a) Prompt the user to input two sentences.\n",
        "\n",
        "(b) Transform each sentence into a list, where each element corresponds to a word in the sentence. For example, if the sentences are \"Hello, how are you doing today?\" and \"This is an example sentence for the program!\"\n",
        "\n",
        "The program should output:\n",
        "['Hello', ',', 'how', 'are', 'you', 'doing', 'today', '?', 'This', 'is', 'an', 'example', 'sentence', 'for', 'the', 'program', '!']\n",
        "\n",
        "(c) Compare the two sentences. Print out a list of words that occur in both sentences.\n",
        "\n",
        "(d) Remove any punctuation from the sentence and print the sanitized sentences. It should remove at least the following characters, but it can remove more: period(“.”), comma (“,”), semicolon (“;”), and colon (“:”).\n",
        "\n",
        "(e) Count the number of vowels in each of the sentences. Print out each vowel and the occurrences  in the each of the two sentences separately, such as:\n",
        "\n",
        "Sentence1: a:2, e:2, i:0, etc.\n",
        "Sentence2: a:1, e:2, i:2, etc.\n",
        "\n",
        "Design a well-structured Python program to execute these tasks efficiently."
      ]
    },
    {
      "cell_type": "code",
      "execution_count": 35,
      "metadata": {
        "id": "Y0oOSlsOS0cq",
        "colab": {
          "base_uri": "https://localhost:8080/"
        },
        "outputId": "83a62e4f-a860-474b-c848-7dfe7d57bf44"
      },
      "outputs": [
        {
          "output_type": "stream",
          "name": "stdout",
          "text": [
            "\n",
            "Combined list of words: \n",
            "['Hello', ',', 'how', 'are', 'you', 'doing', 'today', '?', 'My', 'name', 'is', 'Mani', 'and', 'she', 'is', 'my', 'friend', 'Abhi', '.', 'We', 'are', 'going', 'to', 'the', 'same', 'school']\n",
            "\n",
            "Common words between both sentences: \n",
            "['are']\n",
            "\n",
            "Sanitized Sentence 1: \n",
            "Hello  how are you doing today \n",
            "\n",
            "Sanitized Sentence 2: \n",
            "My name is Mani and she is my friend Abhi  We are going to the same school\n",
            "Sentence 1: \n",
            "{'a': 2, 'e': 2, 'i': 1, 'o': 5, 'u': 1}\n",
            "Sentence 2: \n",
            "{'a': 6, 'e': 7, 'i': 6, 'o': 4, 'u': 0}\n"
          ]
        }
      ],
      "source": [
        "\n",
        "import string\n",
        "\n",
        "# Remove punctuation\n",
        "def remove_punctuation(sentence):\n",
        "    return sentence.translate(str.maketrans('', '', string.punctuation))\n",
        "\n",
        "# Count vowels in a sentence\n",
        "def count_vowels(sentence):\n",
        "    vowels = \"aeiou\"\n",
        "    sentence = sentence.lower()\n",
        "    vowel_count = {vowel: sentence.count(vowel) for vowel in vowels}\n",
        "    return vowel_count\n",
        "\n",
        "# a. Input for test\n",
        "sentence1 = \"Hello , how are you doing today ?\"\n",
        "sentence2 = \"My name is Mani and she is my friend Abhi . We are going to the same school\"\n",
        "\n",
        "# b. Sentence transformation\n",
        "sentence1_list = sentence1.split()\n",
        "sentence2_list = sentence2.split()\n",
        "combined_list = sentence1_list + sentence2_list\n",
        "\n",
        "# Output\n",
        "print(\"\\nCombined list of words: \")\n",
        "print(combined_list)\n",
        "\n",
        "# c: Compare and find common words\n",
        "common_words = set(sentence1_list) & set(sentence2_list)\n",
        "print(\"\\nCommon words between both sentences: \")\n",
        "print(list(common_words))\n",
        "\n",
        "# d Remove punctuation from the sentences\n",
        "sanitized_sentence1 = remove_punctuation(sentence1)\n",
        "sanitized_sentence2 = remove_punctuation(sentence2)\n",
        "print(\"\\nSanitized Sentence 1: \")\n",
        "print(sanitized_sentence1)\n",
        "print(\"\\nSanitized Sentence 2: \")\n",
        "print(sanitized_sentence2)\n",
        "\n",
        "# e Number of vowels in each sentence\n",
        "vowels_count_sentence1 = count_vowels(sanitized_sentence1)\n",
        "vowels_count_sentence2 = count_vowels(sanitized_sentence2)\n",
        "\n",
        "print(\"Sentence 1: \")\n",
        "print(vowels_count_sentence1)\n",
        "print(\"Sentence 2: \")\n",
        "print(vowels_count_sentence2)\n",
        "\n"
      ]
    },
    {
      "cell_type": "markdown",
      "source": [
        "# Question 4 (20 Points)"
      ],
      "metadata": {
        "id": "OP4-5qxAtInv"
      }
    },
    {
      "cell_type": "markdown",
      "source": [
        "Design and implement a simple command-line calculator program. The program should handle both integers and floating-point numbers.\n",
        "\n",
        "(a) Write program that takes a mathematical expression as input and evaluates it. The program should support addition, subtraction, multiplication, and division.\n",
        "\n",
        "(b) Extend the calculator to handle parentheses in mathematical expressions. Implement the necessary logic to evaluate expressions with nested parentheses.\n",
        "\n",
        "(c) Enhance your calculator to include additional mathematical operations such as exponentiation, square root, and modulus.\n",
        "\n",
        "(d) Implement error handling in the calculator program. Handle cases such as division by zero and invalid input expressions. Provide meaningful error messages.\n",
        "\n",
        "(e) Implement a command to exit the calculator."
      ],
      "metadata": {
        "id": "uzN4_hDptK9U"
      }
    },
    {
      "cell_type": "code",
      "source": [
        "# Your code here\n",
        "\n",
        "import math\n",
        "\n",
        "def evaluate_expression(expression):\n",
        "    try:\n",
        "        result = eval(expression)\n",
        "        return result\n",
        "    except ZeroDivisionError:\n",
        "        return \"Error:  Cannot be divided by zero\"\n",
        "    except Exception as e:\n",
        "        return f\"Error: Invalid input - {str(e)}\"\n",
        "\n",
        "def calculator():\n",
        "    print(\"Regular Calculator. Type 'exit' to quit.\")\n",
        "    while True:\n",
        "        expression = input(\"Please enter an expression: \")\n",
        "        if expression.lower() == 'exit':\n",
        "            print(\"Exiting calculator\")\n",
        "            break\n",
        "        result = evaluate_expression(expression)\n",
        "        print(f\"Result: {result}\")\n",
        "\n",
        "calculator()\n",
        "\n",
        "\n",
        "def evaluate_expression(expression):\n",
        "    try:\n",
        "        result = eval(expression, {\"sqrt\": math.sqrt, \"pow\": math.pow, \"__builtins__\": None}, {})\n",
        "        return result\n",
        "    except ZeroDivisionError:\n",
        "        return \"Error: Cannot be divided by zero\"\n",
        "    except Exception as e:\n",
        "        return f\"Error: Invalid input - {str(e)}\"\n",
        "\n",
        "def calculator():\n",
        "    print(\"Extended Calculator with Exponentiation, Square Root, and Modulus. Type 'exit' to quit.\")\n",
        "    print(\"Supported operations: +, -, *, /, ** (exponentiation), % (modulus), sqrt(number)\")\n",
        "    while True:\n",
        "        expression = input(\"Please enter an expression: \")\n",
        "        if expression.lower() == 'exit':\n",
        "            print(\"Exiting calculator.\")\n",
        "            break\n",
        "        result = evaluate_expression(expression)\n",
        "        print(f\"Result: {result}\")\n",
        "\n",
        "calculator()\n",
        "\n",
        "\n"
      ],
      "metadata": {
        "id": "8nQnVxjJuYtu",
        "colab": {
          "base_uri": "https://localhost:8080/"
        },
        "outputId": "654c667a-09ca-44c4-998e-a2d7890a47e6"
      },
      "execution_count": 27,
      "outputs": [
        {
          "output_type": "stream",
          "name": "stdout",
          "text": [
            "Regular Calculator. Type 'exit' to quit.\n",
            "Please enter an expression: 2+2\n",
            "Result: 4\n",
            "Please enter an expression: 2-2\n",
            "Result: 0\n",
            "Please enter an expression: 3*3\n",
            "Result: 9\n",
            "Please enter an expression: 4/3\n",
            "Result: 1.3333333333333333\n",
            "Please enter an expression: exit\n",
            "Exiting calculator\n",
            "Extended Calculator with Exponentiation, Square Root, and Modulus. Type 'exit' to quit.\n",
            "Supported operations: +, -, *, /, ** (exponentiation), % (modulus), sqrt(number)\n",
            "Please enter an expression: sqrt(169)\n",
            "Result: 13.0\n",
            "Please enter an expression: 7/0\n",
            "Result: Error: Cannot be divided by zero\n",
            "Please enter an expression: 0/9\n",
            "Result: 0.0\n",
            "Please enter an expression: exit\n",
            "Exiting calculator.\n"
          ]
        }
      ]
    },
    {
      "cell_type": "markdown",
      "metadata": {
        "id": "z3tBE7E-Xn5X"
      },
      "source": [
        "# Question 5 (30 points).\n",
        "\n",
        "In the field of Data Science, data is often formatted as a comma-delimited (CSV) file, where each line in a file corresponds to a field's value. Refer to Chapter 9 (p. 106) for more information on comma-delimited files.\n",
        "\n",
        "To answer this question, you will need to download the file [Assignment1_denton_housing.csv](https://raw.githubusercontent.com/unt-iialab/info5731-spring2022/main/assignments/Assignment1_denton_housing.csv) included with this assignment. The file contains statistics about housing in the city of Denton from 2008 to 2014. Write a program to implement the following questions.\n",
        "\n",
        "(a) (5 pts) Calculate the difference in the number of Occupied Housing Units from year to year and print it. The difference must be calculated for the consecutive years such as 2008-2009, 2009-2010 etc. Finally, print the values in the ascending order.\n",
        "\n",
        "(b) (5 pts) For all the years, calculate the percentage of housing units which are vacant an occupied. Print the results in the following format:\n",
        "\n",
        "Year Vacant Housing Units Occupied Housing Units\n",
        "\n",
        "    2008  30%   70%                          \n",
        "\t2009 ----- -----\n",
        "\t2010 ----- -----\n",
        "    2011 ----- -----\n",
        "\t2012 ----- -----\n",
        "    2013 ----- -----\n",
        "\t2014 ----- -----\n",
        "  \n",
        "  \n",
        "\n",
        "(c) (10 pts) Calculate and print the valued and years in which the highest number of housing units were vacant and occupied. Print the results in the following format:  \n",
        "\n",
        "                              Year\tValue\n",
        "\tVacant Housing Units\t  -----   -----\n",
        "\tOccupied Housing Units\t-----   -----\n",
        "\n",
        "(d) (10 pts) Calculate the harmonic mean of the total housing units and print it out. You can find the information about harmonic mean here: https://ncalculators.com/statistics/harmonic-mean-calculator.htm"
      ]
    },
    {
      "cell_type": "code",
      "execution_count": 36,
      "metadata": {
        "id": "lqGYuHBhcsRH",
        "colab": {
          "base_uri": "https://localhost:8080/"
        },
        "outputId": "58564c73-80e2-4954-d0a8-ee3cbdc7d3a7"
      },
      "outputs": [
        {
          "output_type": "stream",
          "name": "stdout",
          "text": [
            "(A) Number of Occupied Housing Units from year to year\n",
            "    year  yearly_difference\n",
            "17  2009             -795.0\n",
            "11  2011             -303.0\n",
            "8   2012             1404.0\n",
            "5   2013             1565.0\n",
            "2   2014             2622.0\n",
            "14  2010             5091.0\n",
            "(B)  year  Vacant Housing Units  Occupied Housing Units\n",
            " 2008             10.882653               89.117347\n",
            " 2009              9.071116               90.928884\n",
            " 2010              8.142556               91.857444\n",
            " 2011              9.379522               90.620478\n",
            " 2012              6.677600               93.322400\n",
            " 2013              8.801788               91.198212\n",
            " 2014              5.730111               94.269889\n",
            "(C) Highest Vacant and Occupied Housing Units:\n",
            "                        Year  Value\n",
            "  Vacant Housing Units  2008   4483\n",
            "Occupied Housing Units  2014  46295\n",
            "(D) Harmonic mean of the total housing units is 44398.28543969185\n"
          ]
        }
      ],
      "source": [
        "import pandas as pd\n",
        "\n",
        "# Load the dataset\n",
        "file_path = '/content/sample_data/Assignment1_denton_housing.csv'\n",
        "df = pd.read_csv(file_path)\n",
        "\n",
        "# Check the structure of the dataset\n",
        "df.head()\n",
        "\n",
        "# a Calculate the difference in the number of Occupied Housing Units from year to year and print\n",
        "occupied_df = df[df['title_field'] == 'Occupied Housing Units'].copy()\n",
        "occupied_df = occupied_df.sort_values(by='year')\n",
        "occupied_df['yearly_difference'] = occupied_df['value'].diff()\n",
        "\n",
        "occupied_diff_sorted = occupied_df[['year', 'yearly_difference']].dropna().sort_values(by='yearly_difference')\n",
        "\n",
        "# Results\n",
        "print(\"(A) Number of Occupied Housing Units from year to year\")\n",
        "print(occupied_diff_sorted)\n",
        "\n",
        "\n",
        "\n",
        " # b Calculate the percentage of housing units which are vacant an occupied\n",
        "occupied_df = df[df['title_field'] == 'Occupied Housing Units']\n",
        "vacant_df = df[df['title_field'] == 'Vacant Housing Units']\n",
        "total_df = df[df['title_field'] == 'Total Housing Units']\n",
        "\n",
        "merged_df = pd.merge(occupied_df[['year', 'value']], vacant_df[['year', 'value']], on='year', suffixes=('_occupied', '_vacant'))\n",
        "merged_df = pd.merge(merged_df, total_df[['year', 'value']], on='year')\n",
        "merged_df.rename(columns={'value': 'total_units'}, inplace=True)\n",
        "\n",
        "merged_df['Occupied Housing Units'] = (merged_df['value_occupied'] / merged_df['total_units']) * 100\n",
        "merged_df['Vacant Housing Units'] = (merged_df['value_vacant'] / merged_df['total_units']) * 100\n",
        "\n",
        "percentage_df = merged_df[['year', 'Vacant Housing Units', 'Occupied Housing Units']].sort_values(by='year')\n",
        "\n",
        "# Results\n",
        "print(\"(B)\", percentage_df.to_string(index=False))\n",
        "\n",
        "\n",
        "# c the highest number of housing units were vacant and occupied\n",
        "vacant_df = df[df['title_field'] == 'Vacant Housing Units']\n",
        "occupied_df = df[df['title_field'] == 'Occupied Housing Units']\n",
        "\n",
        "max_vacant = vacant_df.loc[vacant_df['value'].idxmax()]\n",
        "max_occupied = occupied_df.loc[occupied_df['value'].idxmax()]\n",
        "\n",
        "max_values_df = pd.DataFrame({\n",
        "    '': ['Vacant Housing Units', 'Occupied Housing Units'],\n",
        "    'Year': [max_vacant['year'], max_occupied['year']],\n",
        "    'Value': [max_vacant['value'], max_occupied['value']]\n",
        "})\n",
        "\n",
        "# Result\n",
        "print(\"(C) Highest Vacant and Occupied Housing Units:\")\n",
        "print(max_values_df.to_string(index=False))\n",
        "\n",
        "\n",
        "\n",
        "\n",
        "# d Harmonic mean of the total housing units\n",
        "from scipy.stats import hmean\n",
        "\n",
        "total_units_df = df[df['title_field'] == 'Total Housing Units'].copy()\n",
        "\n",
        "harmonic_mean_total_units = hmean(total_units_df['value'])\n",
        "\n",
        "print(\"(D) Harmonic mean of the total housing units is\" , harmonic_mean_total_units )\n"
      ]
    },
    {
      "cell_type": "markdown",
      "source": [
        "# Mandatory Question\n",
        "\n",
        "Provide your thoughts on the assignment. What did you find challenging, and what aspects did you enjoy? Your opinion on the provided time to complete the assignment. Share any suggestions for improvement. Your feedback will be valuable for enhancing the learning experience."
      ],
      "metadata": {
        "id": "q8BFCvWp32cf"
      }
    },
    {
      "cell_type": "code",
      "source": [
        "# Write your response below\n",
        "\n",
        "Working with the random numbers is one of the challenging part since we have to work and validate the code withunknown inputs. Also working with the data set where we calculate percentages,\n",
        "differences is also challenging for me. Though it was challenging i enjoyed working with the random numbers. Since i was  maths student earlier i also enjoyed the calculator where i had\n",
        "implemented all the mathematical expressions.\n"
      ],
      "metadata": {
        "id": "_e557s2w4BpK",
        "colab": {
          "base_uri": "https://localhost:8080/",
          "height": 124
        },
        "outputId": "5107cc17-7408-4e38-bf62-1ace9e107b69"
      },
      "execution_count": 38,
      "outputs": [
        {
          "output_type": "error",
          "ename": "SyntaxError",
          "evalue": "invalid syntax (<ipython-input-38-0d07c0e6bee0>, line 3)",
          "traceback": [
            "\u001b[0;36m  File \u001b[0;32m\"<ipython-input-38-0d07c0e6bee0>\"\u001b[0;36m, line \u001b[0;32m3\u001b[0m\n\u001b[0;31m    Working with the random numbers is one of the challenging part since we have to work and validate the code withunknown inputs. Also working with the data set where we calculate percentages,\u001b[0m\n\u001b[0m            ^\u001b[0m\n\u001b[0;31mSyntaxError\u001b[0m\u001b[0;31m:\u001b[0m invalid syntax\n"
          ]
        }
      ]
    }
  ],
  "metadata": {
    "colab": {
      "provenance": [],
      "include_colab_link": true
    },
    "kernelspec": {
      "display_name": "Python 3 (ipykernel)",
      "language": "python",
      "name": "python3"
    },
    "language_info": {
      "codemirror_mode": {
        "name": "ipython",
        "version": 3
      },
      "file_extension": ".py",
      "mimetype": "text/x-python",
      "name": "python",
      "nbconvert_exporter": "python",
      "pygments_lexer": "ipython3",
      "version": "3.9.12"
    }
  },
  "nbformat": 4,
  "nbformat_minor": 0
}